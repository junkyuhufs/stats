{
  "nbformat": 4,
  "nbformat_minor": 0,
  "metadata": {
    "colab": {
      "provenance": [],
      "gpuType": "T4",
      "authorship_tag": "ABX9TyNBVU8Y5C5gUMn5AAn24oUa",
      "include_colab_link": true
    },
    "kernelspec": {
      "name": "python3",
      "display_name": "Python 3"
    },
    "language_info": {
      "name": "python"
    },
    "accelerator": "GPU"
  },
  "cells": [
    {
      "cell_type": "markdown",
      "metadata": {
        "id": "view-in-github",
        "colab_type": "text"
      },
      "source": [
        "<a href=\"https://colab.research.google.com/github/junkyuhufs/stats/blob/main/WoS_text_preprocessing.ipynb\" target=\"_parent\"><img src=\"https://colab.research.google.com/assets/colab-badge.svg\" alt=\"Open In Colab\"/></a>"
      ]
    },
    {
      "cell_type": "markdown",
      "source": [
        "##텍스트파일 합치기"
      ],
      "metadata": {
        "id": "mlHyTQTkpruD"
      }
    },
    {
      "cell_type": "code",
      "execution_count": null,
      "metadata": {
        "collapsed": true,
        "id": "sM1CCC0appUb"
      },
      "outputs": [],
      "source": [
        "from google.colab import files\n",
        "import io\n",
        "\n",
        "# 🔹 파일 여러 개 업로드\n",
        "uploaded = files.upload()\n",
        "\n",
        "# 🔹 파일 내용을 병합할 리스트\n",
        "merged_lines = []\n",
        "\n",
        "# 🔹 업로드된 모든 파일을 순서대로 병합\n",
        "for filename in uploaded.keys():\n",
        "    print(f\"📄 처리 중: {filename}\")\n",
        "    with open(filename, \"r\", encoding=\"utf-8\") as f:\n",
        "        merged_lines.extend(f.readlines())\n",
        "        merged_lines.append(\"\\n\")  # 파일 간 구분을 위한 빈 줄 추가 (선택 사항)\n",
        "\n",
        "# 🔹 병합된 파일 저장\n",
        "merged_filename = \"merged_output.txt\"\n",
        "with open(merged_filename, \"w\", encoding=\"utf-8\") as f:\n",
        "    f.writelines(merged_lines)\n",
        "\n",
        "print(f\"✅ 병합 완료: {merged_filename}\")\n",
        "\n",
        "# 🔹 병합된 파일 다운로드\n",
        "files.download(merged_filename)\n"
      ]
    },
    {
      "cell_type": "markdown",
      "source": [
        "##DT==Article만 남기기"
      ],
      "metadata": {
        "id": "IlQW5ULaroQw"
      }
    },
    {
      "cell_type": "code",
      "source": [
        "# 1. 파일 업로드 위젯\n",
        "from google.colab import files\n",
        "uploaded = files.upload()\n",
        "\n",
        "# 2. 업로드된 파일 이름 가져오기\n",
        "uploaded_filename = next(iter(uploaded))\n",
        "output_filename = \"1_500_article_only.txt\"\n",
        "\n",
        "# 3. DT가 \"Article\"인 논문만 남기고 나머지 제거\n",
        "total_records = 0\n",
        "removed_records = 0\n",
        "filtered_lines = []\n",
        "inside_record = False\n",
        "keep_record = False\n",
        "current_record = []\n",
        "\n",
        "with open(uploaded_filename, \"r\", encoding=\"utf-8\") as f:\n",
        "    for line in f:\n",
        "        stripped_line = line.strip()\n",
        "        if stripped_line.startswith(\"PT \"):\n",
        "            total_records += 1\n",
        "            inside_record = True\n",
        "            keep_record = False\n",
        "            current_record = [line]\n",
        "        elif stripped_line.startswith(\"ER\") and inside_record:\n",
        "            current_record.append(line)\n",
        "            inside_record = False\n",
        "            if keep_record:\n",
        "                filtered_lines.extend(current_record)\n",
        "            else:\n",
        "                removed_records += 1\n",
        "        elif inside_record:\n",
        "            current_record.append(line)\n",
        "            if stripped_line.startswith(\"DT \") and stripped_line[3:].strip() == \"Article\":\n",
        "                keep_record = True\n",
        "        else:\n",
        "            filtered_lines.append(line)  # 파일 맨 앞이나 끝부분에 있는 부가 정보\n",
        "\n",
        "# 4. 결과 파일 저장\n",
        "with open(output_filename, \"w\", encoding=\"utf-8\") as f:\n",
        "    f.writelines(filtered_lines)\n",
        "\n",
        "# 5. 결과 출력\n",
        "print(f\"총 논문 수: {total_records}\")\n",
        "print(f\"삭제된 논문 수 (DT != 'Article'): {removed_records}\")\n",
        "print(f\"남은 논문 수: {total_records - removed_records}\")\n",
        "print(f\"파일 저장 완료: {output_filename}\")\n",
        "\n",
        "# 6. 다운로드 링크 생성\n",
        "files.download(output_filename)\n"
      ],
      "metadata": {
        "id": "SWRXfyG7rsjo"
      },
      "execution_count": null,
      "outputs": []
    },
    {
      "cell_type": "markdown",
      "source": [
        "##참고문헌 중 저자불분명삭제"
      ],
      "metadata": {
        "id": "TjuehKRtspen"
      }
    },
    {
      "cell_type": "code",
      "source": [
        "# 파일 업로드 위젯 (Colab에서 파일 업로드)\n",
        "from google.colab import files\n",
        "uploaded = files.upload()\n",
        "\n",
        "# 파일 이름 (사용자가 업로드한 파일 이름 자동 추출)\n",
        "import io\n",
        "\n",
        "uploaded_filename = next(iter(uploaded))\n",
        "file_path = uploaded_filename\n",
        "output_path = \"1_500_no_anonymous_preserve_cr.txt\"\n",
        "\n",
        "# [Anonymous] 라인 삭제 + CR 라벨 유지\n",
        "removed_count = 0\n",
        "cleaned_lines = []\n",
        "inside_cr_section = False\n",
        "\n",
        "with open(file_path, \"r\", encoding=\"utf-8\") as f:\n",
        "    for line in f:\n",
        "        stripped_line = line.strip()\n",
        "        if stripped_line.startswith(\"CR\"):\n",
        "            inside_cr_section = True\n",
        "            if \"[Anonymous]\" in stripped_line:\n",
        "                removed_count += 1\n",
        "                cleaned_lines.append(\"CR\\n\")  # CR은 유지\n",
        "                continue\n",
        "        elif inside_cr_section and stripped_line == \"\":\n",
        "            inside_cr_section = False\n",
        "        elif inside_cr_section:\n",
        "            if \"[Anonymous]\" in stripped_line:\n",
        "                removed_count += 1\n",
        "                continue\n",
        "        cleaned_lines.append(line)\n",
        "\n",
        "# 새 파일로 저장\n",
        "with open(output_path, \"w\", encoding=\"utf-8\") as f:\n",
        "    f.writelines(cleaned_lines)\n",
        "\n",
        "# 결과 출력\n",
        "print(f\"[Anonymous] 라인이 {removed_count}개 삭제되었습니다.\")\n",
        "print(f\"정리된 파일이 저장되었습니다: {output_path}\")\n",
        "\n",
        "# 결과저장\n",
        "files.download(\"1_500_no_anonymous_preserve_cr.txt\")\n"
      ],
      "metadata": {
        "id": "XWQVXf0Hsz-U"
      },
      "execution_count": null,
      "outputs": []
    },
    {
      "cell_type": "markdown",
      "source": [
        "## 2025년 논문삭제"
      ],
      "metadata": {
        "id": "c9FtH5X2jKnH"
      }
    },
    {
      "cell_type": "code",
      "source": [
        "# 1. 파일 업로드\n",
        "from google.colab import files\n",
        "\n",
        "uploaded = files.upload()\n",
        "filename = list(uploaded.keys())[0]\n",
        "\n",
        "# 2. 파일 읽기\n",
        "with open(filename, 'r', encoding='utf-8') as f:\n",
        "    data = f.read()\n",
        "\n",
        "# 3. 논문 블록을 PT ~ ER 단위로 분리\n",
        "papers = data.split('\\nER\\n')\n",
        "papers = [paper.strip() for paper in papers if paper.strip()]\n",
        "\n",
        "# 4. 'PY 2025' 포함된 논문을 삭제 (PT ~ ER 전체 제거)\n",
        "filtered_papers = []\n",
        "deleted_count = 0\n",
        "\n",
        "for paper in papers:\n",
        "    if 'PY 2025' in paper:\n",
        "        deleted_count += 1\n",
        "    else:\n",
        "        filtered_papers.append(paper + '\\nER')\n",
        "\n",
        "# 5. 결과 파일로 저장\n",
        "output_filename = 'cleaned_full_removal_2025.txt'\n",
        "with open(output_filename, 'w', encoding='utf-8') as f:\n",
        "    f.write('\\n'.join(filtered_papers))\n",
        "\n",
        "# 6. 결과 출력\n",
        "print(f'총 논문 수: {len(papers)}')\n",
        "print(f'\"PY 2025\" 논문 삭제 수: {deleted_count}')\n",
        "print(f'남은 논문 수: {len(filtered_papers)}')\n",
        "\n",
        "# 7. 결과 파일 다운로드\n",
        "files.download(output_filename)\n"
      ],
      "metadata": {
        "id": "Ol9tFjftlSk0"
      },
      "execution_count": null,
      "outputs": []
    }
  ]
}